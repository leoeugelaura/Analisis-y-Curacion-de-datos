{
 "cells": [
  {
   "cell_type": "code",
   "execution_count": 1,
   "metadata": {},
   "outputs": [],
   "source": [
    "import matplotlib.pyplot as plt\n",
    "import numpy\n",
    "import pandas\n",
    "import seaborn"
   ]
  },
  {
   "cell_type": "code",
   "execution_count": 2,
   "metadata": {},
   "outputs": [
    {
     "data": {
      "text/plain": [
       "'0.9.0'"
      ]
     },
     "execution_count": 2,
     "metadata": {},
     "output_type": "execute_result"
    }
   ],
   "source": [
    "seaborn.__version__\n"
   ]
  },
  {
   "cell_type": "code",
   "execution_count": 3,
   "metadata": {},
   "outputs": [
    {
     "data": {
      "text/html": [
       "<div>\n",
       "<style scoped>\n",
       "    .dataframe tbody tr th:only-of-type {\n",
       "        vertical-align: middle;\n",
       "    }\n",
       "\n",
       "    .dataframe tbody tr th {\n",
       "        vertical-align: top;\n",
       "    }\n",
       "\n",
       "    .dataframe thead th {\n",
       "        text-align: right;\n",
       "    }\n",
       "</style>\n",
       "<table border=\"1\" class=\"dataframe\">\n",
       "  <thead>\n",
       "    <tr style=\"text-align: right;\">\n",
       "      <th></th>\n",
       "      <th>location</th>\n",
       "      <th>name</th>\n",
       "      <th>province</th>\n",
       "    </tr>\n",
       "  </thead>\n",
       "  <tbody>\n",
       "    <tr>\n",
       "      <th>0</th>\n",
       "      <td>[-54.832543, -68.3712885]</td>\n",
       "      <td>SAN SEBASTIAN  ( USHUAIA )</td>\n",
       "      <td>Tierra del Fuego</td>\n",
       "    </tr>\n",
       "    <tr>\n",
       "      <th>1</th>\n",
       "      <td>[-54.8249379, -68.3258626]</td>\n",
       "      <td>AERO PUBLICO DE USHUAIA</td>\n",
       "      <td>Tierra del Fuego</td>\n",
       "    </tr>\n",
       "    <tr>\n",
       "      <th>2</th>\n",
       "      <td>[-54.8096728, -68.3114748]</td>\n",
       "      <td>PUERTO USHUAIA (PREFECTURA)</td>\n",
       "      <td>Tierra del Fuego</td>\n",
       "    </tr>\n",
       "    <tr>\n",
       "      <th>3</th>\n",
       "      <td>[-54.8019121, -68.3029511]</td>\n",
       "      <td>PUERTO USHUAIA</td>\n",
       "      <td>Tierra del Fuego</td>\n",
       "    </tr>\n",
       "    <tr>\n",
       "      <th>4</th>\n",
       "      <td>[-51.6896359, -72.2993574]</td>\n",
       "      <td>PASO LAURITA CASAS VIEJAS</td>\n",
       "      <td>Santa Cruz</td>\n",
       "    </tr>\n",
       "    <tr>\n",
       "      <th>5</th>\n",
       "      <td>[-51.5866042, -72.3649779]</td>\n",
       "      <td>PASO DOROTEA</td>\n",
       "      <td>Santa Cruz</td>\n",
       "    </tr>\n",
       "    <tr>\n",
       "      <th>6</th>\n",
       "      <td>[-51.2544488, -72.2652242]</td>\n",
       "      <td>PASO RIO DON GUILLERMO</td>\n",
       "      <td>Santa Cruz</td>\n",
       "    </tr>\n",
       "    <tr>\n",
       "      <th>7</th>\n",
       "      <td>[-53.3229179, -68.6063227]</td>\n",
       "      <td>PASO SAN SEBASTIAN</td>\n",
       "      <td>Tierra del Fuego</td>\n",
       "    </tr>\n",
       "    <tr>\n",
       "      <th>8</th>\n",
       "      <td>[-53.78438, -67.7173342]</td>\n",
       "      <td>TERMINAL RIO GRANDE</td>\n",
       "      <td>Tierra del Fuego</td>\n",
       "    </tr>\n",
       "    <tr>\n",
       "      <th>9</th>\n",
       "      <td>[-53.7860374, -67.7002243]</td>\n",
       "      <td>PUERTO RIO GRANDE</td>\n",
       "      <td>Tierra del Fuego</td>\n",
       "    </tr>\n",
       "  </tbody>\n",
       "</table>\n",
       "</div>"
      ],
      "text/plain": [
       "                     location                         name          province\n",
       "0   [-54.832543, -68.3712885]   SAN SEBASTIAN  ( USHUAIA )  Tierra del Fuego\n",
       "1  [-54.8249379, -68.3258626]      AERO PUBLICO DE USHUAIA  Tierra del Fuego\n",
       "2  [-54.8096728, -68.3114748]  PUERTO USHUAIA (PREFECTURA)  Tierra del Fuego\n",
       "3  [-54.8019121, -68.3029511]               PUERTO USHUAIA  Tierra del Fuego\n",
       "4  [-51.6896359, -72.2993574]    PASO LAURITA CASAS VIEJAS        Santa Cruz\n",
       "5  [-51.5866042, -72.3649779]                 PASO DOROTEA        Santa Cruz\n",
       "6  [-51.2544488, -72.2652242]       PASO RIO DON GUILLERMO        Santa Cruz\n",
       "7  [-53.3229179, -68.6063227]           PASO SAN SEBASTIAN  Tierra del Fuego\n",
       "8    [-53.78438, -67.7173342]          TERMINAL RIO GRANDE  Tierra del Fuego\n",
       "9  [-53.7860374, -67.7002243]            PUERTO RIO GRANDE  Tierra del Fuego"
      ]
     },
     "execution_count": 3,
     "metadata": {},
     "output_type": "execute_result"
    }
   ],
   "source": [
    "data= pandas.read_json(r\"../input/pasos.json\",encoding='utf-8')\n",
    "data.head(10)"
   ]
  },
  {
   "cell_type": "code",
   "execution_count": 4,
   "metadata": {},
   "outputs": [
    {
     "data": {
      "text/plain": [
       "(252, 3)"
      ]
     },
     "execution_count": 4,
     "metadata": {},
     "output_type": "execute_result"
    }
   ],
   "source": [
    "data.shape\n"
   ]
  },
  {
   "cell_type": "code",
   "execution_count": 5,
   "metadata": {},
   "outputs": [
    {
     "data": {
      "text/plain": [
       "<bound method NDFrame.describe of                                location                             name  \\\n",
       "0             [-54.832543, -68.3712885]       SAN SEBASTIAN  ( USHUAIA )   \n",
       "1            [-54.8249379, -68.3258626]          AERO PUBLICO DE USHUAIA   \n",
       "2            [-54.8096728, -68.3114748]      PUERTO USHUAIA (PREFECTURA)   \n",
       "3            [-54.8019121, -68.3029511]                   PUERTO USHUAIA   \n",
       "4            [-51.6896359, -72.2993574]        PASO LAURITA CASAS VIEJAS   \n",
       "5            [-51.5866042, -72.3649779]                     PASO DOROTEA   \n",
       "6            [-51.2544488, -72.2652242]           PASO RIO DON GUILLERMO   \n",
       "7            [-53.3229179, -68.6063227]               PASO SAN SEBASTIAN   \n",
       "8              [-53.78438, -67.7173342]              TERMINAL RIO GRANDE   \n",
       "9            [-53.7860374, -67.7002243]                PUERTO RIO GRANDE   \n",
       "10           [-52.2527012, -69.8852885]                     MONTE AYMOND   \n",
       "11           [-52.1304141, -69.5198778]              INTEGRACION AUSTRAL   \n",
       "12            [-50.283977, -72.0558347]                 AERO EL CALAFATE   \n",
       "13           [-52.3274981, -68.3692192]               PASO CABO VIRGENES   \n",
       "14           [-51.6117879, -69.3085038]                AERO RIO GALLEGOS   \n",
       "15           [-51.6117879, -69.3085038]                AERO RIO GALLEGOS   \n",
       "16           [-51.6230485, -69.2168291]              PUERTO RIO GALLEGOS   \n",
       "17           [-45.9146467, -71.6458095]                         HUEMULES   \n",
       "18            [-50.115518, -68.4132101]              PUERTO PUNTA QUILLA   \n",
       "19           [-50.0247276, -68.5243815]                PUERTO SANTA CRUZ   \n",
       "20           [-49.3068942, -67.7298249]                PUERTO SAN JULIAN   \n",
       "21           [-46.5851781, -71.6706662]     PASO JEINIMENI - CHILE CHICO   \n",
       "22           [-46.2752267, -71.7270022]        ING. PALLAVICINI - IBAÑEZ   \n",
       "23           [-46.2752267, -71.7270022]        ING. PALLAVICINI - IBAÑEZ   \n",
       "24           [-45.5236846, -71.6370845]                   PASO COIHAIQUE   \n",
       "25            [-45.582347, -71.7251078]                      PASO TRIANA   \n",
       "26           [-47.7515646, -65.9013773]                   PUERTO DESEADO   \n",
       "27           [-45.0144719, -70.8198792]      AEROPUERTO ALTO RIO SENGUER   \n",
       "28           [-46.4742858, -67.5003124]             PUERTO CALETA OLIVIA   \n",
       "29            [-45.862387, -67.4664881]        PUERTO COMODORO RIVADAVIA   \n",
       "..                                  ...                              ...   \n",
       "222            [-22.096667, -65.596389]             LA QUIACA - VILLAZON   \n",
       "223          [-22.0554561, -63.6885824]         SALVADOR MAZZA - YACUIBA   \n",
       "224          [-41.1467101, -71.1642129]                   AERO BARILOCHE   \n",
       "225           [-26.216682, -58.2327793]                     AERO FORMOSA   \n",
       "226          [-35.4834837, -69.5867919]                    AERO MALARGUE   \n",
       "227          [-37.9341161, -57.5745361]               AERO MAR DEL PLATA   \n",
       "228          [-29.6881667, -57.1553125]          AERO PASO DE LOS LIBRES   \n",
       "229          [-53.7856913, -67.7582472]                  AERO RIO GRANDE   \n",
       "230          [-31.7088748, -60.8100047]                 AERO SAUCE VIEJO   \n",
       "231            [-22.619167, -63.793333]                    AERO TARTAGAL   \n",
       "232          [-27.5063076, -64.9352342]            AERO TERMAS RIO HONDO   \n",
       "233            [-25.601999, -53.975597]             ANDRESITO - CAPANEMA   \n",
       "234           [-32.825277, -70.0729456]       CRISTO REDENTOR (HORCONES)   \n",
       "235           [-32.825277, -70.0729456]   CRISTO REDENTOR PUNTA DE VACAS   \n",
       "236  [-23.677289299999998, -61.9181406]            EL REMANSO - LA VERDE   \n",
       "237          [-24.8027954, -59.2496609]       GRL BELGRANO - GRL BRUGUEZ   \n",
       "238          [-33.0056407, -58.5146586]       GUALEGUAYCHU - FRAY BENTOS   \n",
       "239          [-40.1133859, -71.6806031]                HUA HUM (FLUVIAL)   \n",
       "240            [-25.768889, -53.851111]           INTEGRACION - PLANALTO   \n",
       "241           [-41.697539, -65.0469293]            MUELLE PUNTA COLORADA   \n",
       "242          [-25.2860542, -57.7112013]          PASARELA LA FRATERNIDAD   \n",
       "243           [-53.657868, -68.6045084]                 PASO ALFA CULLEN   \n",
       "244                [-23.216667, -67.05]                 PASO DE JAMA SUR   \n",
       "245          [-31.2999984, -70.5675526]                   PASO EL AZUFRE   \n",
       "246              [-24.012778, -60.0375]                      PASO ISLETA   \n",
       "247          [-45.2213569, -71.3610803]                  PASO PAMPA ALTA   \n",
       "248          [-48.8772007, -72.7288579]  PASO PORTEZUELO DE LA DIVISORIA   \n",
       "249          [-34.1176359, -57.9897668]                      ROU COLONIA   \n",
       "250          [-34.1176359, -57.9897668]                      ROU COLONIA   \n",
       "251          [-25.6221088, -54.6080637]    ZONA FRANCA IGUAZU (TRANSITO)   \n",
       "\n",
       "                                              province  \n",
       "0                                     Tierra del Fuego  \n",
       "1                                     Tierra del Fuego  \n",
       "2                                     Tierra del Fuego  \n",
       "3                                     Tierra del Fuego  \n",
       "4                                           Santa Cruz  \n",
       "5                                           Santa Cruz  \n",
       "6                                           Santa Cruz  \n",
       "7                                     Tierra del Fuego  \n",
       "8                                     Tierra del Fuego  \n",
       "9                                     Tierra del Fuego  \n",
       "10                                          Santa Cruz  \n",
       "11                                          Santa Cruz  \n",
       "12                                          Santa Cruz  \n",
       "13                                          Santa Cruz  \n",
       "14                                          Santa Cruz  \n",
       "15   AEROPUERTO INTERNACIONAL PILOTO CIVIL NORBERTO...  \n",
       "16                                          Santa Cruz  \n",
       "17                                          Santa Cruz  \n",
       "18                                          Santa Cruz  \n",
       "19                                          Santa Cruz  \n",
       "20                                          Santa Cruz  \n",
       "21                                          Santa Cruz  \n",
       "22                                          Santa Cruz  \n",
       "23                                          Santa Cruz  \n",
       "24                                          Santa Cruz  \n",
       "25                                              Chubut  \n",
       "26                                          Santa Cruz  \n",
       "27                                              Chubut  \n",
       "28                                          Santa Cruz  \n",
       "29                                              Chubut  \n",
       "..                                                 ...  \n",
       "222                                              Jujuy  \n",
       "223                                              Jujuy  \n",
       "224                                          Rio Negro  \n",
       "225                                            Formosa  \n",
       "226                                            Mendoza  \n",
       "227                                       Buenos Aires  \n",
       "228                                            Mendoza  \n",
       "229                                   Tierra del Fuego  \n",
       "230                                           Santa Fe  \n",
       "231                                              Jujuy  \n",
       "232                                Santiago del Estero  \n",
       "233                                           Misiones  \n",
       "234                                            Mendoza  \n",
       "235                                            Mendoza  \n",
       "236                                            Formosa  \n",
       "237                                              Chaco  \n",
       "238                                         Entre Rios  \n",
       "239                                            Neuquen  \n",
       "240                                           Misiones  \n",
       "241                                          Rio Negro  \n",
       "242                                            Formosa  \n",
       "243                                   Tierra del Fuego  \n",
       "244                                              Jujuy  \n",
       "245                                            Mendoza  \n",
       "246                                            Formosa  \n",
       "247                                             Chubut  \n",
       "248                                         Santa Cruz  \n",
       "249                                       Buenos Aires  \n",
       "250                                       Buenos Aires  \n",
       "251                                           Misiones  \n",
       "\n",
       "[252 rows x 3 columns]>"
      ]
     },
     "execution_count": 5,
     "metadata": {},
     "output_type": "execute_result"
    }
   ],
   "source": [
    "data.describe"
   ]
  },
  {
   "cell_type": "code",
   "execution_count": 6,
   "metadata": {},
   "outputs": [],
   "source": [
    "import statistics\n",
    "\n",
    "import matplotlib.pyplot as plt"
   ]
  },
  {
   "cell_type": "code",
   "execution_count": 9,
   "metadata": {},
   "outputs": [
    {
     "ename": "TypeError",
     "evalue": "unsupported operand type(s) for /: 'list' and 'int'",
     "output_type": "error",
     "traceback": [
      "\u001b[1;31m---------------------------------------------------------------------------\u001b[0m",
      "\u001b[1;31mTypeError\u001b[0m                                 Traceback (most recent call last)",
      "\u001b[1;32m<ipython-input-9-08da0eba5bb3>\u001b[0m in \u001b[0;36m<module>\u001b[1;34m\u001b[0m\n\u001b[0;32m      1\u001b[0m \u001b[0mplt\u001b[0m\u001b[1;33m.\u001b[0m\u001b[0mfigure\u001b[0m\u001b[1;33m(\u001b[0m\u001b[0mfigsize\u001b[0m\u001b[1;33m=\u001b[0m\u001b[1;33m(\u001b[0m\u001b[1;36m10\u001b[0m\u001b[1;33m,\u001b[0m\u001b[1;36m8\u001b[0m\u001b[1;33m)\u001b[0m\u001b[1;33m)\u001b[0m\u001b[1;33m\u001b[0m\u001b[1;33m\u001b[0m\u001b[0m\n\u001b[0;32m      2\u001b[0m \u001b[0mplt\u001b[0m\u001b[1;33m.\u001b[0m\u001b[0mtitle\u001b[0m\u001b[1;33m(\u001b[0m\u001b[1;34m'Distribución por provincias'\u001b[0m\u001b[1;33m)\u001b[0m\u001b[1;33m\u001b[0m\u001b[1;33m\u001b[0m\u001b[0m\n\u001b[1;32m----> 3\u001b[1;33m \u001b[0mseaborn\u001b[0m\u001b[1;33m.\u001b[0m\u001b[0mdistplot\u001b[0m\u001b[1;33m(\u001b[0m\u001b[0mdata\u001b[0m\u001b[1;33m.\u001b[0m\u001b[0mlocation\u001b[0m\u001b[1;33m.\u001b[0m\u001b[0mdropna\u001b[0m\u001b[1;33m(\u001b[0m\u001b[0maxis\u001b[0m\u001b[1;33m=\u001b[0m\u001b[1;36m0\u001b[0m\u001b[1;33m,\u001b[0m \u001b[0mhow\u001b[0m\u001b[1;33m=\u001b[0m\u001b[1;34m'all'\u001b[0m\u001b[1;33m)\u001b[0m\u001b[1;33m)\u001b[0m\u001b[1;33m\u001b[0m\u001b[1;33m\u001b[0m\u001b[0m\n\u001b[0m",
      "\u001b[1;32m~\\Miniconda3v1\\envs\\diplodatos\\lib\\site-packages\\seaborn\\distributions.py\u001b[0m in \u001b[0;36mdistplot\u001b[1;34m(a, bins, hist, kde, rug, fit, hist_kws, kde_kws, rug_kws, fit_kws, color, vertical, norm_hist, axlabel, label, ax)\u001b[0m\n\u001b[0;32m    196\u001b[0m             \u001b[0mline\u001b[0m\u001b[1;33m,\u001b[0m \u001b[1;33m=\u001b[0m \u001b[0max\u001b[0m\u001b[1;33m.\u001b[0m\u001b[0mplot\u001b[0m\u001b[1;33m(\u001b[0m\u001b[1;36m0\u001b[0m\u001b[1;33m,\u001b[0m \u001b[0ma\u001b[0m\u001b[1;33m.\u001b[0m\u001b[0mmean\u001b[0m\u001b[1;33m(\u001b[0m\u001b[1;33m)\u001b[0m\u001b[1;33m)\u001b[0m\u001b[1;33m\u001b[0m\u001b[1;33m\u001b[0m\u001b[0m\n\u001b[0;32m    197\u001b[0m         \u001b[1;32melse\u001b[0m\u001b[1;33m:\u001b[0m\u001b[1;33m\u001b[0m\u001b[1;33m\u001b[0m\u001b[0m\n\u001b[1;32m--> 198\u001b[1;33m             \u001b[0mline\u001b[0m\u001b[1;33m,\u001b[0m \u001b[1;33m=\u001b[0m \u001b[0max\u001b[0m\u001b[1;33m.\u001b[0m\u001b[0mplot\u001b[0m\u001b[1;33m(\u001b[0m\u001b[0ma\u001b[0m\u001b[1;33m.\u001b[0m\u001b[0mmean\u001b[0m\u001b[1;33m(\u001b[0m\u001b[1;33m)\u001b[0m\u001b[1;33m,\u001b[0m \u001b[1;36m0\u001b[0m\u001b[1;33m)\u001b[0m\u001b[1;33m\u001b[0m\u001b[1;33m\u001b[0m\u001b[0m\n\u001b[0m\u001b[0;32m    199\u001b[0m         \u001b[0mcolor\u001b[0m \u001b[1;33m=\u001b[0m \u001b[0mline\u001b[0m\u001b[1;33m.\u001b[0m\u001b[0mget_color\u001b[0m\u001b[1;33m(\u001b[0m\u001b[1;33m)\u001b[0m\u001b[1;33m\u001b[0m\u001b[1;33m\u001b[0m\u001b[0m\n\u001b[0;32m    200\u001b[0m         \u001b[0mline\u001b[0m\u001b[1;33m.\u001b[0m\u001b[0mremove\u001b[0m\u001b[1;33m(\u001b[0m\u001b[1;33m)\u001b[0m\u001b[1;33m\u001b[0m\u001b[1;33m\u001b[0m\u001b[0m\n",
      "\u001b[1;32m~\\Miniconda3v1\\envs\\diplodatos\\lib\\site-packages\\numpy\\core\\_methods.py\u001b[0m in \u001b[0;36m_mean\u001b[1;34m(a, axis, dtype, out, keepdims)\u001b[0m\n\u001b[0;32m     85\u001b[0m             \u001b[0mret\u001b[0m \u001b[1;33m=\u001b[0m \u001b[0mret\u001b[0m\u001b[1;33m.\u001b[0m\u001b[0mdtype\u001b[0m\u001b[1;33m.\u001b[0m\u001b[0mtype\u001b[0m\u001b[1;33m(\u001b[0m\u001b[0mret\u001b[0m \u001b[1;33m/\u001b[0m \u001b[0mrcount\u001b[0m\u001b[1;33m)\u001b[0m\u001b[1;33m\u001b[0m\u001b[1;33m\u001b[0m\u001b[0m\n\u001b[0;32m     86\u001b[0m     \u001b[1;32melse\u001b[0m\u001b[1;33m:\u001b[0m\u001b[1;33m\u001b[0m\u001b[1;33m\u001b[0m\u001b[0m\n\u001b[1;32m---> 87\u001b[1;33m         \u001b[0mret\u001b[0m \u001b[1;33m=\u001b[0m \u001b[0mret\u001b[0m \u001b[1;33m/\u001b[0m \u001b[0mrcount\u001b[0m\u001b[1;33m\u001b[0m\u001b[1;33m\u001b[0m\u001b[0m\n\u001b[0m\u001b[0;32m     88\u001b[0m \u001b[1;33m\u001b[0m\u001b[0m\n\u001b[0;32m     89\u001b[0m     \u001b[1;32mreturn\u001b[0m \u001b[0mret\u001b[0m\u001b[1;33m\u001b[0m\u001b[1;33m\u001b[0m\u001b[0m\n",
      "\u001b[1;31mTypeError\u001b[0m: unsupported operand type(s) for /: 'list' and 'int'"
     ]
    },
    {
     "data": {
      "image/png": "[encoded data removed]",
      "text/plain": [
       "<Figure size 720x576 with 1 Axes>"
      ]
     },
     "metadata": {
      "needs_background": "light"
     },
     "output_type": "display_data"
    }
   ],
   "source": []
  },
  {
   "cell_type": "code",
   "execution_count": null,
   "metadata": {},
   "outputs": [],
   "source": []
  }
 ],
 "metadata": {
  "kernelspec": {
   "display_name": "Python 3",
   "language": "python",
   "name": "python3"
  },
  "language_info": {
   "codemirror_mode": {
    "name": "ipython",
    "version": 3
   },
   "file_extension": ".py",
   "mimetype": "text/x-python",
   "name": "python",
   "nbconvert_exporter": "python",
   "pygments_lexer": "ipython3",
   "version": "3.7.3"
  }
 },
 "nbformat": 4,
 "nbformat_minor": 2
}
